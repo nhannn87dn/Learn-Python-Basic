{
  "cells": [
    {
      "cell_type": "markdown",
      "metadata": {
        "id": "pxyzehOWo_3R"
      },
      "source": [
        "# Bài tập Session 03 - Câu lệnh điều khiển\n",
        "\n",
        "## 3.1 Input - Đầu Vào"
      ]
    },
    {
      "cell_type": "markdown",
      "metadata": {
        "id": "ceCtr3WSpNqv"
      },
      "source": [
        "**Câu 1:** Viết chương trình yêu cầu người dùng nhập tên và tuổi của họ, sau đó in ra \"Xin chào **[tên]**, bạn **[tuổi]** tuổi.\""
      ]
    },
    {
      "cell_type": "code",
      "execution_count": null,
      "metadata": {
        "id": "rTQvDm7aoSZL"
      },
      "outputs": [],
      "source": []
    },
    {
      "cell_type": "markdown",
      "metadata": {
        "id": "7Qt_dtvjpZ4-"
      },
      "source": [
        "**Câu 2:** Viết chương trình yêu cầu người dùng nhập một số nguyên và kiểm tra xem số đó có là số chẵn hay lẻ, sau đó in ra kết quả."
      ]
    },
    {
      "cell_type": "code",
      "execution_count": null,
      "metadata": {
        "id": "RYBEY6hGpd3p"
      },
      "outputs": [],
      "source": []
    },
    {
      "cell_type": "markdown",
      "metadata": {
        "id": "ZuAzeEKFpeZv"
      },
      "source": [
        "**Câu 3:** Viết chương trình yêu cầu người dùng nhập một số thực và tính diện tích của hình tròn có bán kính là số đó."
      ]
    },
    {
      "cell_type": "code",
      "execution_count": null,
      "metadata": {
        "id": "C1RwzOaFpi6O"
      },
      "outputs": [],
      "source": []
    },
    {
      "cell_type": "markdown",
      "metadata": {
        "id": "vTR8gWu4pkrX"
      },
      "source": [
        "**Câu 4:** Viết chương trình yêu cầu người dùng nhập vào 2 số và in ra kết quả phép nhân 2 số đó."
      ]
    },
    {
      "cell_type": "code",
      "execution_count": null,
      "metadata": {
        "id": "MsvpJo0Ipmp_"
      },
      "outputs": [],
      "source": []
    },
    {
      "cell_type": "markdown",
      "metadata": {
        "id": "YSfIpDlapoZX"
      },
      "source": [
        "**Câu 5:** Viết chương trình yêu cầu người dùng nhập 4 số nguyên, sau đó tính tổng và trung bình cộng của các số đó và in ra kết quả"
      ]
    },
    {
      "cell_type": "code",
      "execution_count": null,
      "metadata": {
        "id": "MAr8MBR3pqTX"
      },
      "outputs": [],
      "source": []
    },
    {
      "cell_type": "markdown",
      "metadata": {
        "id": "_judbklOpuC3"
      },
      "source": [
        "## 3.2 IF - ELSE , Cấu trúc rẻ nhánh\n",
        "\n",
        "**Câu 1:** Viết chương trình yêu cầu người dùng nhập một số nguyên và kiểm tra xem số đó có nằm trong khoảng từ 10 đến 20 không"
      ]
    },
    {
      "cell_type": "code",
      "execution_count": null,
      "metadata": {
        "id": "Az_v4obvp1qP"
      },
      "outputs": [],
      "source": []
    },
    {
      "cell_type": "markdown",
      "metadata": {
        "id": "UtGOWwUtp3Au"
      },
      "source": [
        "**Câu 2:** Viết chương trình yêu cầu người dùng nhập điểm Toán, Lý, Hóa, Sinh của một sinh viên và kiểm tra xem sinh viên đó có đạt điểm trung bình (từ 5.0 trở lên) và không có điểm dưới 3.0 không."
      ]
    },
    {
      "cell_type": "code",
      "execution_count": null,
      "metadata": {
        "id": "FEQHuucUp7D-"
      },
      "outputs": [],
      "source": []
    },
    {
      "cell_type": "markdown",
      "metadata": {
        "id": "bLuLLSQjp9hm"
      },
      "source": [
        "**Câu 3:** Viết chương trình yêu cầu người dùng nhập một số nguyên và kiểm tra xem số đó có chia hết cho cả 3 và 5 không."
      ]
    },
    {
      "cell_type": "code",
      "execution_count": null,
      "metadata": {
        "id": "nto3n2TiqAmO"
      },
      "outputs": [],
      "source": []
    },
    {
      "cell_type": "markdown",
      "metadata": {
        "id": "Mv5So14OqA-H"
      },
      "source": [
        "**Câu 4:** Viết chương trình yêu cầu người dùng nhập tên của một ngày trong tuần (viết dạng tiếng việt không dấu: Ví dụ: bay) và kiểm tra xem ngày đó có phải là ngày cuối tuần không ? Nếu là `bay` hoặc `chu nhat` thì in ra là: \"Hôm nay là cuối tuần\""
      ]
    },
    {
      "cell_type": "code",
      "execution_count": null,
      "metadata": {
        "id": "W4AaJdgUqGWf"
      },
      "outputs": [],
      "source": []
    },
    {
      "cell_type": "markdown",
      "metadata": {
        "id": "mf_0Y2zvqGoP"
      },
      "source": [
        "**Câu 5:** Viết chương trình yêu cầu người dùng nhập một số nguyên và kiểm tra xem số đó có nằm ngoài khoảng từ 1 đến 100 không và đồng thời không là số chia hết cho 5."
      ]
    },
    {
      "cell_type": "code",
      "execution_count": null,
      "metadata": {
        "id": "Yp1c7_bsqJWv"
      },
      "outputs": [],
      "source": []
    },
    {
      "cell_type": "markdown",
      "metadata": {
        "id": "pASPkE1XqSwO"
      },
      "source": [
        "\n",
        "\n",
        "**Câu 6:** Viết chương trình yêu cầu người dùng nhập một số nguyên và kiểm tra xem số đó có là số chẵn hay số lẻ."
      ]
    },
    {
      "cell_type": "code",
      "execution_count": null,
      "metadata": {
        "id": "f5vzglUaqbZ-"
      },
      "outputs": [],
      "source": []
    },
    {
      "cell_type": "markdown",
      "metadata": {
        "id": "72EfpS0rqb0m"
      },
      "source": [
        "**Câu 7:** Viết chương trình yêu cầu người dùng nhập một số và kiểm tra xem số đó có là số âm, dương hay bằng không."
      ]
    },
    {
      "cell_type": "code",
      "execution_count": null,
      "metadata": {
        "id": "Tk0UwxNcqfC-"
      },
      "outputs": [],
      "source": []
    },
    {
      "cell_type": "markdown",
      "metadata": {
        "id": "3EP4XRq9qfgl"
      },
      "source": [
        "**Câu 8:** Viết chương trình yêu cầu người dùng nhập điểm của một bài kiểm tra và in ra \"Đậu\" nếu điểm lớn hơn hoặc bằng 5 và in ra \"Trượt\" nếu điểm nhỏ hơn 5."
      ]
    },
    {
      "cell_type": "code",
      "execution_count": null,
      "metadata": {
        "id": "AHQ-qxmmqimd"
      },
      "outputs": [],
      "source": []
    },
    {
      "cell_type": "markdown",
      "metadata": {
        "id": "ZMmJEStxqjft"
      },
      "source": [
        "**Câu 9:** Viết chương trình yêu cầu người dùng nhập ba số và in ra số lớn nhất trong ba số đó."
      ]
    },
    {
      "cell_type": "code",
      "execution_count": null,
      "metadata": {
        "id": "5EAE-LbBqmD2"
      },
      "outputs": [],
      "source": []
    },
    {
      "cell_type": "markdown",
      "metadata": {
        "id": "ZiZQtlNWqmZF"
      },
      "source": [
        "**Câu 10:** Viết chương trình yêu cầu người dùng nhập một số nguyên và kiểm tra xem số đó có là số chia hết cho 3 và 5 đồng thời không là số chia hết cho 2 hay không"
      ]
    },
    {
      "cell_type": "code",
      "execution_count": null,
      "metadata": {
        "id": "5NUXa8vAqsCt"
      },
      "outputs": [],
      "source": []
    },
    {
      "cell_type": "markdown",
      "metadata": {
        "id": "wiE-ALfaqs7F"
      },
      "source": [
        "**Câu 11:** Viết chương trình yêu cầu người dùng nhập năm sinh của họ và in ra \"Bạn là người trưởng thành\" nếu tuổi của họ lớn hơn hoặc bằng 18, và in ra \"Bạn là người vị thành niên\" nếu tuổi của họ nhỏ hơn 18."
      ]
    },
    {
      "cell_type": "code",
      "execution_count": null,
      "metadata": {
        "id": "1wFpSX4sq6-m"
      },
      "outputs": [],
      "source": []
    },
    {
      "cell_type": "markdown",
      "metadata": {
        "id": "wcNAZU1Lq7F9"
      },
      "source": [
        "**Câu 12:** Kiểm tra tuổi để vào một trang web\n",
        "\n",
        "- Viết một chương trình yêu cầu người dùng nhập tuổi của họ.\n",
        "\n",
        "- Nếu người dùng dưới 18 tuổi, in ra thông báo \"Bạn chưa đủ tuổi để truy cập trang web này.\"\n",
        "\n",
        "- Nếu người dùng từ 18 tuổi trở lên, in ra thông báo \"Chào mừng bạn đến với trang web!\""
      ]
    },
    {
      "cell_type": "code",
      "execution_count": null,
      "metadata": {
        "id": "SljfXIghrWg8"
      },
      "outputs": [],
      "source": []
    },
    {
      "cell_type": "markdown",
      "metadata": {
        "id": "ZirF4Qf1sW6E"
      },
      "source": [
        "**Câu 13:** Viết một chương trình yêu cầu người dùng nhập tình trạng thời tiết hiện tại (nắng, mưa, hoặc có mây)\"\n",
        "- In ra thông báo phù hợp dựa trên tình trạng thời tiết:\n",
        " - \"Hôm nay trời nắng, đừng quên đeo kính râm!\"\n",
        " - \"Hôm nay trời mưa, hãy mang theo ô!\"\n",
        " - \"Hôm nay trời có mây, thời tiết thật dễ chịu!\"\n",
        "- Nếu người dùng nhập bất kỳ giá trị nào khác, in ra thông báo \"Tình trạng thời tiết không xác định.\""
      ]
    },
    {
      "cell_type": "code",
      "execution_count": null,
      "metadata": {
        "id": "hW-ZGWqRsmU7"
      },
      "outputs": [],
      "source": []
    },
    {
      "cell_type": "markdown",
      "metadata": {
        "id": "8m3cwB0wsr97"
      },
      "source": [
        "**Câu 14:** Viết một chương trình yêu cầu người dùng nhập mật khẩu.\n",
        "- Nếu mật khẩu đúng (ví dụ: \"python123\"), in ra thông báo \"Mật khẩu đúng, truy cập thành công.\"\n",
        "- Nếu mật khẩu sai, in ra thông báo \"Mật khẩu sai, vui lòng thử lại.\""
      ]
    },
    {
      "cell_type": "code",
      "execution_count": null,
      "metadata": {
        "id": "xmmdIesJsvZb"
      },
      "outputs": [],
      "source": []
    },
    {
      "cell_type": "markdown",
      "metadata": {
        "id": "WgiFehaSsv4r"
      },
      "source": [
        "**Câu 15:** Viết một chương trình yêu cầu người dùng nhập loại phương tiện họ đang sử dụng (xe đạp, xe máy, ô tô).\n",
        "- In ra thông báo phù hợp dựa trên loại phương tiện:\n",
        "  - \"Bạn đang đi xe đạp, hãy đội mũ bảo hiểm.\"\n",
        "  - \"Bạn đang đi xe máy, hãy đeo mũ bảo hiểm và áo giáp.\"\n",
        "  - \"Bạn đang lái ô tô, hãy thắt dây an toàn.\"\n",
        "- Nếu người dùng nhập bất kỳ giá trị nào khác, in ra thông báo \"Loại phương tiện không xác định.\""
      ]
    },
    {
      "cell_type": "code",
      "execution_count": null,
      "metadata": {
        "id": "4hRLbezms5jr"
      },
      "outputs": [],
      "source": []
    },
    {
      "cell_type": "markdown",
      "metadata": {
        "id": "IEPMew03ZrdI"
      },
      "source": [
        "========================================\n",
        "\n",
        "CHỨC MỪNG ! BẠN ĐÃ VƯỢT QUA THỬ THÁCH BÀI TẬP !\n",
        "\n",
        "## Cách nộp bài\n",
        "\n",
        "1. Click vào liên kết **Share** phía góc trên bên phải\n",
        "1. Tại dòng **General access**, đổi từ **Restricted** thành **Anyone with the link**\n",
        "1. Click vào nút **Copy Link**, lấy link đó gửi cho giáo viên.\n"
      ]
    }
  ],
  "metadata": {
    "colab": {
      "provenance": []
    },
    "kernelspec": {
      "display_name": "Python 3",
      "name": "python3"
    },
    "language_info": {
      "name": "python"
    }
  },
  "nbformat": 4,
  "nbformat_minor": 0
}
