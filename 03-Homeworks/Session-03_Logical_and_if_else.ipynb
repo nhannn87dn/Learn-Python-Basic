{
  "cells": [
    {
      "cell_type": "markdown",
      "metadata": {
        "id": "pxyzehOWo_3R"
      },
      "source": [
        "# Bài tập Session 03 - Câu lệnh điều khiển\n",
        "\n",
        "## 3.1 Input - Đầu Vào"
      ]
    },
    {
      "cell_type": "markdown",
      "metadata": {
        "id": "ceCtr3WSpNqv"
      },
      "source": [
        "**Câu 1:** Viết chương trình yêu cầu người dùng nhập tên và tuổi của họ, sau đó in ra \"Xin chào **[tên]**, bạn **[tuổi]** tuổi.\""
      ]
    },
    {
      "cell_type": "code",
      "execution_count": null,
      "metadata": {
        "id": "rTQvDm7aoSZL"
      },
      "outputs": [],
      "source": []
    },
    {
      "cell_type": "markdown",
      "metadata": {
        "id": "7Qt_dtvjpZ4-"
      },
      "source": [
        "**Câu 2:** Viết chương trình yêu cầu người dùng nhập một số nguyên và kiểm tra xem số đó có là số chẵn hay lẻ, sau đó in ra kết quả."
      ]
    },
    {
      "cell_type": "code",
      "execution_count": null,
      "metadata": {
        "id": "RYBEY6hGpd3p"
      },
      "outputs": [],
      "source": []
    },
    {
      "cell_type": "markdown",
      "metadata": {
        "id": "ZuAzeEKFpeZv"
      },
      "source": [
        "**Câu 3:** Viết chương trình yêu cầu người dùng nhập một số thực và tính diện tích của hình tròn có bán kính là số đó."
      ]
    },
    {
      "cell_type": "code",
      "execution_count": null,
      "metadata": {
        "id": "C1RwzOaFpi6O"
      },
      "outputs": [],
      "source": []
    },
    {
      "cell_type": "markdown",
      "metadata": {
        "id": "vTR8gWu4pkrX"
      },
      "source": [
        "**Câu 4:** Viết chương trình yêu cầu người dùng nhập vào 2 số và in ra kết quả phép nhân 2 số đó."
      ]
    },
    {
      "cell_type": "code",
      "execution_count": null,
      "metadata": {
        "id": "MsvpJo0Ipmp_"
      },
      "outputs": [],
      "source": []
    },
    {
      "cell_type": "markdown",
      "metadata": {
        "id": "YSfIpDlapoZX"
      },
      "source": [
        "**Câu 5:** Viết chương trình yêu cầu người dùng nhập 4 số nguyên, sau đó tính tổng và trung bình cộng của các số đó và in ra kết quả"
      ]
    },
    {
      "cell_type": "code",
      "execution_count": null,
      "metadata": {
        "id": "MAr8MBR3pqTX"
      },
      "outputs": [],
      "source": []
    },
    {
      "cell_type": "markdown",
      "metadata": {
        "id": "_judbklOpuC3"
      },
      "source": [
        "## 3.2 IF - ELSE , Cấu trúc rẻ nhánh\n",
        "\n",
        "**Câu 1:** Viết chương trình yêu cầu người dùng nhập một số nguyên và kiểm tra xem số đó có nằm trong khoảng từ 10 đến 20 không"
      ]
    },
    {
      "cell_type": "code",
      "execution_count": null,
      "metadata": {
        "id": "Az_v4obvp1qP"
      },
      "outputs": [],
      "source": [
        "# Ví dụ cách giải:\n",
        "\n",
        "n = int(input('Nhập vào một số nguyên: '))\n",
        "if n > 10 and n < 20:\n",
        "    print('Nằm trong khoảng đã cho')\n",
        "else:\n",
        "    print('Không nằm trong khoảng đã cho')"
      ]
    },
    {
      "cell_type": "markdown",
      "metadata": {
        "id": "UtGOWwUtp3Au"
      },
      "source": [
        "**Câu 2:** Viết chương trình yêu cầu người dùng nhập điểm Toán, Lý, Hóa, Sinh của một sinh viên và kiểm tra xem sinh viên đó có lên lớp không. Lên lớp nếu từ 5.0 trở lên và không có môn nào điểm dưới 3.0"
      ]
    },
    {
      "cell_type": "code",
      "execution_count": null,
      "metadata": {
        "id": "FEQHuucUp7D-"
      },
      "outputs": [],
      "source": []
    },
    {
      "cell_type": "markdown",
      "metadata": {
        "id": "bLuLLSQjp9hm"
      },
      "source": [
        "**Câu 3:** Viết chương trình yêu cầu người dùng nhập một số nguyên và kiểm tra xem số đó có chia hết cho cả 3 và 5 không. Nếu có in ra: \"Chia hết cho 3 và 5\", ngược lại \"Không chia hết\""
      ]
    },
    {
      "cell_type": "code",
      "execution_count": null,
      "metadata": {
        "id": "nto3n2TiqAmO"
      },
      "outputs": [],
      "source": []
    },
    {
      "cell_type": "markdown",
      "metadata": {
        "id": "mf_0Y2zvqGoP"
      },
      "source": [
        "**Câu 4:** Viết chương trình yêu cầu người dùng nhập một số nguyên và kiểm tra xem số đó có nằm ngoài khoảng từ 1 đến 100 không và đồng thời không là số chia hết cho 5."
      ]
    },
    {
      "cell_type": "code",
      "execution_count": null,
      "metadata": {
        "id": "Yp1c7_bsqJWv"
      },
      "outputs": [],
      "source": []
    },
    {
      "cell_type": "markdown",
      "metadata": {},
      "source": [
        "**Câu 5:** Viết một chương trình Python để tính tiền thanh toán khi mua vé xem phim. Chương trình sẽ tính toán tổng chi phí dựa trên các yếu tố sau:\n",
        "\n",
        "Loại vé:\n",
        "\n",
        "- Vé trẻ em: 70,000 VNĐ\n",
        "- Vé người lớn: 100,000 VNĐ\n",
        "- Vé người cao tuổi: 80,000 VNĐ\n",
        "\n",
        "Số lượng vé. Chiết khấu đặc biệt:\n",
        "\n",
        "- Nếu mua từ 5 vé trở lên, giảm 10% tổng giá trị đơn hàng.\n",
        "- Nếu mua từ 10 vé trở lên, giảm 20% tổng giá trị đơn hàng.\n",
        "\n",
        "Chương trình sẽ nhập vào thông tin của 2 khách hàng, bao gồm loại vé và số lượng vé, sau đó tính và in ra số tiền mà mỗi khách hàng phải thanh toán sau khi áp dụng chiết khấu"
      ]
    },
    {
      "cell_type": "code",
      "execution_count": null,
      "metadata": {},
      "outputs": [],
      "source": []
    },
    {
      "cell_type": "markdown",
      "metadata": {
        "id": "pASPkE1XqSwO"
      },
      "source": [
        "\n",
        "\n",
        "**Câu 6:** Viết chương trình yêu cầu người dùng nhập vào số kilomet quảng đường giao hàng.\n",
        "\n",
        "- Nếu quảng đường < 5km thì phí giao hàng là 10.000đ\n",
        "- Nếu quảng đường >= 5km thì phí giao hàng là  35.000đ\n",
        "- Nếu quảng đường > 10km thì phí giao hàng là 50.000đ\n",
        "\n",
        "Yêu cầu tính và in ra phí giao hàng dựa vào số kilomet giao hàng."
      ]
    },
    {
      "cell_type": "code",
      "execution_count": null,
      "metadata": {
        "id": "f5vzglUaqbZ-"
      },
      "outputs": [],
      "source": []
    },
    {
      "cell_type": "markdown",
      "metadata": {
        "id": "72EfpS0rqb0m"
      },
      "source": [
        "**Câu 7:** Viết chương trình yêu cầu người dùng nhập một số và kiểm tra xem số đó có là số âm, dương hay bằng không."
      ]
    },
    {
      "cell_type": "code",
      "execution_count": null,
      "metadata": {
        "id": "Tk0UwxNcqfC-"
      },
      "outputs": [],
      "source": []
    },
    {
      "cell_type": "markdown",
      "metadata": {
        "id": "3EP4XRq9qfgl"
      },
      "source": [
        "**Câu 8:** Viết chương trình yêu cầu người dùng nhập điểm của một bài kiểm tra và in ra \"Đậu\" nếu điểm lớn hơn hoặc bằng 5 và in ra \"Trượt\" nếu điểm nhỏ hơn 5."
      ]
    },
    {
      "cell_type": "code",
      "execution_count": null,
      "metadata": {
        "id": "AHQ-qxmmqimd"
      },
      "outputs": [],
      "source": []
    },
    {
      "cell_type": "markdown",
      "metadata": {
        "id": "ZMmJEStxqjft"
      },
      "source": [
        "**Câu 9:** Viết chương trình yêu cầu người dùng nhập ba số và in ra số lớn nhất trong ba số đó."
      ]
    },
    {
      "cell_type": "code",
      "execution_count": null,
      "metadata": {
        "id": "5EAE-LbBqmD2"
      },
      "outputs": [],
      "source": []
    },
    {
      "cell_type": "markdown",
      "metadata": {
        "id": "ZiZQtlNWqmZF"
      },
      "source": [
        "**Câu 10:** Viết chương trình yêu cầu người dùng nhập một số nguyên và kiểm tra xem số đó có là số chia hết cho 3 và 5 đồng thời không là số chia hết cho 2 hay không"
      ]
    },
    {
      "cell_type": "code",
      "execution_count": null,
      "metadata": {
        "id": "5NUXa8vAqsCt"
      },
      "outputs": [],
      "source": []
    },
    {
      "cell_type": "markdown",
      "metadata": {
        "id": "wiE-ALfaqs7F"
      },
      "source": [
        "**Câu 11:** Mẹ của Nam bán Chôm Chôm. Giá 1kg là 25.000đ\n",
        "\n",
        "- Nếu mua > 3kg thì giá chỉ còn 22.000kg /1 kg\n",
        "- Nếu mua > 5kg thì giá chỉ còn 18.000kg /1 kg\n",
        "\n",
        "Với vai trò là lập trình viên, hãy tạo một chương trình tính toán nhận vào số kg nhập từ người dùng. Tính và in ra số tiền khách hàng phải trả khi mua số kg tương ứng."
      ]
    },
    {
      "cell_type": "code",
      "execution_count": null,
      "metadata": {
        "id": "1wFpSX4sq6-m"
      },
      "outputs": [],
      "source": []
    },
    {
      "cell_type": "markdown",
      "metadata": {
        "id": "wcNAZU1Lq7F9"
      },
      "source": [
        "**Câu 12:** Kiểm tra tuổi để vào một trang web\n",
        "\n",
        "- Viết một chương trình yêu cầu người dùng nhập tuổi của họ.\n",
        "\n",
        "- Nếu người dùng dưới 18 tuổi, in ra thông báo \"Bạn chưa đủ tuổi để truy cập trang web này.\"\n",
        "\n",
        "- Nếu người dùng từ 18 tuổi trở lên, in ra thông báo \"Chào mừng bạn đến với trang web!\""
      ]
    },
    {
      "cell_type": "code",
      "execution_count": null,
      "metadata": {
        "id": "SljfXIghrWg8"
      },
      "outputs": [],
      "source": []
    },
    {
      "cell_type": "markdown",
      "metadata": {
        "id": "ZirF4Qf1sW6E"
      },
      "source": [
        "**Câu 13:** Gia đình Tony chuẩn bị đi du lịch Phú Quốc.Được biết:\n",
        "\n",
        "-  Phòng hạng A, đơn giá 500USD / 1 ngày\n",
        "-  Phòng hạng B, đơn giá 300USD / 1 ngày\n",
        "-  Phòng hạng C, đơn giá 150USD / 1 ngày\n",
        "\n",
        "Và Nếu ở từ 3 ngày trở lên thì được giảm 10%.\n",
        "\n",
        "Bạn hãy lập trình một công cụ để tính tổng chi phí chuyến đi của họ trong các trường hợp:\n",
        "\n",
        "- Đi 2 ngày và sử dụng 2 phòng hạng A\n",
        "- Đi 5 ngày và sử dụng 2 phòng hạng C\n",
        "\n",
        "Gợi ý: Dùng input() để nhận giá trị số ngày, và hạng phòng."
      ]
    },
    {
      "cell_type": "code",
      "execution_count": null,
      "metadata": {
        "id": "hW-ZGWqRsmU7"
      },
      "outputs": [],
      "source": []
    },
    {
      "cell_type": "markdown",
      "metadata": {
        "id": "8m3cwB0wsr97"
      },
      "source": [
        "**Câu 14:** Viết một chương trình yêu cầu người dùng nhập mật khẩu.\n",
        "- Nếu mật khẩu đúng (ví dụ: \"python123\"), in ra thông báo \"Mật khẩu đúng, truy cập thành công.\"\n",
        "- Nếu mật khẩu sai, in ra thông báo \"Mật khẩu sai, vui lòng thử lại.\""
      ]
    },
    {
      "cell_type": "code",
      "execution_count": null,
      "metadata": {
        "id": "xmmdIesJsvZb"
      },
      "outputs": [],
      "source": []
    },
    {
      "cell_type": "markdown",
      "metadata": {
        "id": "WgiFehaSsv4r"
      },
      "source": [
        "**Câu 15:** Viết một chương trình Python để tính tiền thanh toán cho khách hàng dựa vào xếp hạng thành viên và giá trị đơn hàng. Có ba hạng thành viên: \"Gold\", \"Silver\", và \"Bronze\". Tùy theo hạng thành viên, khách hàng sẽ nhận được mức giảm giá khác nhau:\n",
        "\n",
        "- Nếu là hạng Gold và đơn hàng >= 5000USD : Giảm 20%\n",
        "- Nếu là hạng Silver và đơn hàng >= 5000USD: Giảm 15%\n",
        "- Nếu là hạng  Bronze và đơn hàng >= 5000USD: Giảm 10%\n",
        "\n",
        "Chương trình sẽ nhập vào thông tin của 2 khách hàng, bao gồm hạng thành viên và giá trị đơn hàng, sau đó tính và in ra số tiền mà mỗi khách hàng phải thanh toán sau khi áp dụng giảm giá"
      ]
    },
    {
      "cell_type": "code",
      "execution_count": null,
      "metadata": {
        "id": "4hRLbezms5jr"
      },
      "outputs": [],
      "source": []
    },
    {
      "cell_type": "markdown",
      "metadata": {
        "id": "IEPMew03ZrdI"
      },
      "source": [
        "========================================\n",
        "\n",
        "CHỨC MỪNG ! BẠN ĐÃ VƯỢT QUA THỬ THÁCH BÀI TẬP !\n",
        "\n",
        "## Cách nộp bài\n",
        "\n",
        "1. Click vào liên kết **Share** phía góc trên bên phải\n",
        "1. Tại dòng **General access**, đổi từ **Restricted** thành **Anyone with the link**\n",
        "1. Click vào nút **Copy Link**, lấy link đó gửi cho giáo viên.\n"
      ]
    }
  ],
  "metadata": {
    "colab": {
      "provenance": []
    },
    "kernelspec": {
      "display_name": "Python 3",
      "name": "python3"
    },
    "language_info": {
      "name": "python"
    }
  },
  "nbformat": 4,
  "nbformat_minor": 0
}
