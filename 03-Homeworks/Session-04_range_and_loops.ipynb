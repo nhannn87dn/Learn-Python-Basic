{
  "cells": [
    {
      "cell_type": "markdown",
      "metadata": {
        "id": "pxyzehOWo_3R"
      },
      "source": [
        "# Bài tập Session 04 - Range và Vòng lặp\n",
        "\n",
        " (Chỉ sử dụng kiến thức trong phạm vi bài đã học)\n"
      ]
    },
    {
      "cell_type": "markdown",
      "metadata": {
        "id": "9QTHgS3ntB0r"
      },
      "source": [
        "## 3.4 Vòng lặp\n",
        "\n",
        "**Câu 1:** Viết chương trình Python in ra dãy số từ 1 đến 10"
      ]
    },
    {
      "cell_type": "code",
      "execution_count": null,
      "metadata": {
        "id": "nEMfM13ZtHtL"
      },
      "outputs": [],
      "source": []
    },
    {
      "cell_type": "markdown",
      "metadata": {
        "id": "DpKfOyKFtJW7"
      },
      "source": [
        "**Câu 2:** Viết chương trình Python tính tổng các số từ 1 đến n, với n là một số nguyên được nhập từ người dùng."
      ]
    },
    {
      "cell_type": "code",
      "execution_count": null,
      "metadata": {
        "id": "es6NSFuatNAD"
      },
      "outputs": [],
      "source": []
    },
    {
      "cell_type": "markdown",
      "metadata": {
        "id": "HOE6Hkg4tObr"
      },
      "source": [
        "**Câu 3:** Viết chương trình Python in ra bảng cửu chương từ 2 đến 9"
      ]
    },
    {
      "cell_type": "code",
      "execution_count": null,
      "metadata": {
        "id": "Ojhrq_vstR0L"
      },
      "outputs": [],
      "source": []
    },
    {
      "cell_type": "markdown",
      "metadata": {
        "id": "6O0VFtL9tST7"
      },
      "source": [
        "**Câu 4:** Viết chương trình Python in ra các ký tự trong một chuỗi được nhập từ người dùng, mỗi ký tự trên một dòng\n",
        "\n",
        "Ví dụ nhập vào `kiwi` thì in ra:\n",
        "- k\n",
        "- i\n",
        "- w\n",
        "- i"
      ]
    },
    {
      "cell_type": "code",
      "execution_count": null,
      "metadata": {
        "id": "vL811F1utbuT"
      },
      "outputs": [],
      "source": []
    },
    {
      "cell_type": "markdown",
      "metadata": {
        "id": "fEFuQw1Btdej"
      },
      "source": [
        "**Câu 5:** Viết chương trình Python tính tổng các phần tử trong một danh sách số nguyên được nhập từ người dùng.\n",
        "\n",
        "Ví dụ: nhập vào `123456`. Kết quả tính tổng = 21"
      ]
    },
    {
      "cell_type": "code",
      "execution_count": null,
      "metadata": {
        "id": "6Tqk5o5rtmTK"
      },
      "outputs": [],
      "source": []
    },
    {
      "cell_type": "markdown",
      "metadata": {
        "id": "4o-ahe77tkzc"
      },
      "source": [
        "**Câu 6:** Viết chương trình Python tính tổng các `số chẵn` từ 1 đến `n`, với `n` là một số nguyên được nhập từ người dùng"
      ]
    },
    {
      "cell_type": "code",
      "execution_count": null,
      "metadata": {
        "id": "B30kySJEtqdS"
      },
      "outputs": [],
      "source": []
    },
    {
      "cell_type": "markdown",
      "metadata": {
        "id": "qmF0rqrEtpjS"
      },
      "source": [
        "**Câu 7:** Viết chương trình Python in ra các `số nguyên tố` từ 2 đến `n`, với `n` là một số nguyên được nhập từ người dùng."
      ]
    },
    {
      "cell_type": "code",
      "execution_count": null,
      "metadata": {
        "id": "pEPhCMTntv0K"
      },
      "outputs": [],
      "source": []
    },
    {
      "cell_type": "markdown",
      "metadata": {
        "id": "rvJl7FLJtwOB"
      },
      "source": [
        "**Câu 8:** Viết chương trình Python kiểm tra giá trị nhập vào của người dùng. Tên thủ đô của Nhật Bản là gì ? Nếu giá trị nhập vào không phải là **'Tokyo'** thì hiển thị thông báo.\n",
        "- Câu trả lời của bạn chưa chính xác. Vui lòng nhập lại.\n",
        "- Bạn tạo input để cho người dùng nhập lại câu trả lời."
      ]
    },
    {
      "cell_type": "code",
      "execution_count": null,
      "metadata": {
        "id": "3WsmBz5xunXD"
      },
      "outputs": [],
      "source": []
    },
    {
      "cell_type": "markdown",
      "metadata": {
        "id": "vdrdtlewu51Y"
      },
      "source": [
        "========================================\n",
        "\n",
        "CHỨC MỪNG ! BẠN ĐÃ VƯỢT QUA THỬ THÁCH BÀI TẬP VỀ RANGE, LOOP !\n",
        "\n",
        "## Cách nộp bài\n",
        "\n",
        "1. Click vào liên kết **Share** phía góc trên bên phải\n",
        "1. Tại dòng **General access**, đổi từ **Restricted** thành **Anyone with the link**\n",
        "1. Click vào nút **Copy Link**, lấy link đó gửi cho giáo viên.\n"
      ]
    }
  ],
  "metadata": {
    "colab": {
      "provenance": []
    },
    "kernelspec": {
      "display_name": "Python 3",
      "name": "python3"
    },
    "language_info": {
      "name": "python"
    }
  },
  "nbformat": 4,
  "nbformat_minor": 0
}
