{
  "nbformat": 4,
  "nbformat_minor": 0,
  "metadata": {
    "colab": {
      "provenance": []
    },
    "kernelspec": {
      "name": "python3",
      "display_name": "Python 3"
    },
    "language_info": {
      "name": "python"
    }
  },
  "cells": [
    {
      "cell_type": "markdown",
      "source": [
        "# Bài tập Session 04 - Range và Vòng lặp\n",
        "\n",
        " (Chỉ sử dụng kiến thức trong phạm vi bài đã học)\n"
      ],
      "metadata": {
        "id": "pxyzehOWo_3R"
      }
    },
    {
      "cell_type": "markdown",
      "source": [
        "## 3.4 Vòng lặp\n",
        "\n",
        "**Câu 1:** Viết chương trình Python in ra dãy số từ 1 đến 10"
      ],
      "metadata": {
        "id": "9QTHgS3ntB0r"
      }
    },
    {
      "cell_type": "code",
      "source": [],
      "metadata": {
        "id": "nEMfM13ZtHtL"
      },
      "execution_count": null,
      "outputs": []
    },
    {
      "cell_type": "markdown",
      "source": [
        "**Câu 2:** Viết chương trình Python tính tổng các số từ 1 đến n, với n là một số nguyên được nhập từ người dùng."
      ],
      "metadata": {
        "id": "DpKfOyKFtJW7"
      }
    },
    {
      "cell_type": "code",
      "source": [],
      "metadata": {
        "id": "es6NSFuatNAD"
      },
      "execution_count": null,
      "outputs": []
    },
    {
      "cell_type": "markdown",
      "source": [
        "**Câu 3:** Viết chương trình Python in ra bảng cửu chương từ 2 đến 9"
      ],
      "metadata": {
        "id": "HOE6Hkg4tObr"
      }
    },
    {
      "cell_type": "code",
      "source": [],
      "metadata": {
        "id": "Ojhrq_vstR0L"
      },
      "execution_count": null,
      "outputs": []
    },
    {
      "cell_type": "markdown",
      "source": [
        "**Câu 4:** Viết chương trình Python in ra các ký tự trong một chuỗi được nhập từ người dùng, mỗi ký tự trên một dòng"
      ],
      "metadata": {
        "id": "6O0VFtL9tST7"
      }
    },
    {
      "cell_type": "code",
      "source": [],
      "metadata": {
        "id": "vL811F1utbuT"
      },
      "execution_count": null,
      "outputs": []
    },
    {
      "cell_type": "markdown",
      "source": [
        "**Câu 5:** Viết chương trình Python tính tổng các phần tử trong một danh sách số nguyên được nhập từ người dùng."
      ],
      "metadata": {
        "id": "fEFuQw1Btdej"
      }
    },
    {
      "cell_type": "code",
      "source": [],
      "metadata": {
        "id": "6Tqk5o5rtmTK"
      },
      "execution_count": null,
      "outputs": []
    },
    {
      "cell_type": "markdown",
      "source": [
        "**Câu 6:** Viết chương trình Python tính tổng các số chẵn từ 1 đến n, với n là một số nguyên được nhập từ người dùng"
      ],
      "metadata": {
        "id": "4o-ahe77tkzc"
      }
    },
    {
      "cell_type": "code",
      "source": [],
      "metadata": {
        "id": "B30kySJEtqdS"
      },
      "execution_count": null,
      "outputs": []
    },
    {
      "cell_type": "markdown",
      "source": [
        "**Câu 7:** Viết chương trình Python in ra các số nguyên tố từ 2 đến n, với n là một số nguyên được nhập từ người dùng."
      ],
      "metadata": {
        "id": "qmF0rqrEtpjS"
      }
    },
    {
      "cell_type": "code",
      "source": [],
      "metadata": {
        "id": "pEPhCMTntv0K"
      },
      "execution_count": null,
      "outputs": []
    },
    {
      "cell_type": "markdown",
      "source": [
        "**Câu 8:** Viết chương trình Python kiểm tra giá trị nhập vào của người dùng. Tên thủ đô của Nhật Bản là gì ? Nếu giá trị nhập vào không phải là **'Tokyo'** thì hiển thị thông báo.\n",
        "- Câu trả lời của bạn chưa chính xác. Vui lòng nhập lại.\n",
        "- Bạn tạo input để cho người dùng nhập lại câu trả lời."
      ],
      "metadata": {
        "id": "rvJl7FLJtwOB"
      }
    },
    {
      "cell_type": "code",
      "source": [],
      "metadata": {
        "id": "3WsmBz5xunXD"
      },
      "execution_count": null,
      "outputs": []
    },
    {
      "cell_type": "markdown",
      "source": [
        "========================================\n",
        "\n",
        "CHỨC MỪNG ! BẠN ĐÃ VƯỢT QUA THỬ THIAC BÀI TẬP VỀ BIẾN !\n",
        "\n",
        "## Cách nộp bài\n",
        "\n",
        "1. Click vào liên kết **Share** phía góc trên bên phải\n",
        "1. Tại dòng **General access**, đổi từ **Restricted** thành **Anyone with the link**\n",
        "1. Click vào nút **Copy Link**, lấy link đó gửi cho giáo viên.\n"
      ],
      "metadata": {
        "id": "vdrdtlewu51Y"
      }
    }
  ]
}