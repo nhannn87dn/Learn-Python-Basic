{
 "cells": [
  {
   "cell_type": "markdown",
   "metadata": {
    "id": "i3NcySA4u4j3"
   },
   "source": [
    "# Bài tập về ôn tập kiến thức\n",
    "\n",
    "Hướng dẫn thực hiện:\n",
    "\n",
    "- Đọc kỹ yêu cầu\n",
    "- Code lệnh vào mục code bên dưới câu hỏi. Sau đó nhấn vào biểu tượng **play** để thực thi mã python."
   ]
  },
  {
   "cell_type": "markdown",
   "metadata": {
    "id": "8vL1TR7Xs21M"
   },
   "source": [
    "**Bài tập 1:** Viết chương trình tính tổng của hai số nguyên bất kỳ và in kết quả ra màn hình"
   ]
  },
  {
   "cell_type": "code",
   "execution_count": null,
   "metadata": {
    "executionInfo": {
     "elapsed": 7,
     "status": "ok",
     "timestamp": 1715919663342,
     "user": {
      "displayName": "Tomy Nguyen",
      "userId": "01917695902216858745"
     },
     "user_tz": -420
    },
    "id": "6vLYqbNEY_vQ"
   },
   "outputs": [],
   "source": []
  },
  {
   "cell_type": "markdown",
   "metadata": {
    "id": "Iau8LOEptELJ"
   },
   "source": [
    "**Bài tập 2:** Viết chương trình yêu cầu người dùng nhập tên và chào hỏi họ bằng cách in ra `\"Xin chào [tên]\"`."
   ]
  },
  {
   "cell_type": "code",
   "execution_count": null,
   "metadata": {
    "id": "30CrG53vtI_9"
   },
   "outputs": [],
   "source": []
  },
  {
   "cell_type": "markdown",
   "metadata": {
    "id": "2AZemUS2tJ05"
   },
   "source": [
    "**Bài tập 3:** Viết chương trình nhập một số thực và kiểm tra xem số đó có dương không, in kết quả tương ứng."
   ]
  },
  {
   "cell_type": "code",
   "execution_count": null,
   "metadata": {
    "id": "4JZENQRdtODK"
   },
   "outputs": [],
   "source": []
  },
  {
   "cell_type": "markdown",
   "metadata": {
    "id": "JrvK4hGVtOdB"
   },
   "source": [
    "**Bài tập 4:** Viết chương trình tạo chuỗi `\"HelloHelloHelloWorld\"` bằng cách lặp chuỗi `\"Hello\"` ba lần rồi nối thêm `\"World\"`, sau đó in ra kết quả."
   ]
  },
  {
   "cell_type": "code",
   "execution_count": null,
   "metadata": {
    "id": "EKE0hbZKtSvx"
   },
   "outputs": [],
   "source": []
  },
  {
   "cell_type": "markdown",
   "metadata": {
    "id": "_Dj1wN5ZtTPh"
   },
   "source": [
    "**Bài tập 5:** Viết chương trình tính diện tích hình chữ nhật dựa trên chiều dài và rộng nhập từ người dùng"
   ]
  },
  {
   "cell_type": "code",
   "execution_count": null,
   "metadata": {
    "id": "TCtDWY9vtdlZ"
   },
   "outputs": [],
   "source": []
  },
  {
   "cell_type": "markdown",
   "metadata": {
    "id": "sJTlabF8tqzR"
   },
   "source": [
    "**Bài tập 6:** Viết chương trình nhập một chuỗi và kiểm tra xem chuỗi đó có phải là `\"Python\"` không, in `\"Đúng\"` hoặc `\"Sai\"`."
   ]
  },
  {
   "cell_type": "code",
   "execution_count": null,
   "metadata": {
    "id": "8LlXBRFwt0SM"
   },
   "outputs": [],
   "source": []
  },
  {
   "cell_type": "markdown",
   "metadata": {
    "id": "5vrQuBVpuJbg"
   },
   "source": [
    "**Bài tập 7:** Viết chương trình tạo một list chứa 4 số nguyên, nối thêm hai số khác vào và in list mới"
   ]
  },
  {
   "cell_type": "code",
   "execution_count": null,
   "metadata": {
    "id": "mZQ7HZPHuTe_"
   },
   "outputs": [],
   "source": []
  },
  {
   "cell_type": "markdown",
   "metadata": {
    "id": "QaBCbU7suT__"
   },
   "source": [
    "**Bài tập 8:** Viết chương trình tạo một tuple chứa 3 tên màu sắc và in ra tên màu thứ hai."
   ]
  },
  {
   "cell_type": "code",
   "execution_count": null,
   "metadata": {
    "id": "mL5PHT9dugGX"
   },
   "outputs": [],
   "source": []
  },
  {
   "cell_type": "markdown",
   "metadata": {
    "id": "fp-KoC16umG_"
   },
   "source": [
    "**Bài tập 9:** Viết chương trình nhập 3 số nguyên từ người dùng và lưu vào một list, sau đó in list đó"
   ]
  },
  {
   "cell_type": "markdown",
   "metadata": {
    "id": "xrmVMd9CuuAn"
   },
   "source": [
    "**Bài tập 10:** Viết chương trình tạo một tuple số nguyên, nhập một số và kiểm tra xem số đó có tồn tại trong tuple không, in kết quả"
   ]
  },
  {
   "cell_type": "code",
   "execution_count": null,
   "metadata": {
    "id": "FUl37iJ2u1Vr"
   },
   "outputs": [],
   "source": []
  },
  {
   "cell_type": "markdown",
   "metadata": {},
   "source": [
    "**Bài tập 11:** Viết chương trình nhập một chuỗi và in ra 5 ký tự đầu tiên nối với `\"...\"` ."
   ]
  },
  {
   "cell_type": "code",
   "execution_count": null,
   "metadata": {},
   "outputs": [],
   "source": []
  },
  {
   "cell_type": "markdown",
   "metadata": {},
   "source": [
    "**Bài tập 12**: Viết chương trình nhập hai số thực, tính hiệu, tích, thương của chúng và kiểm tra xem thương có lớn hơn 1 không, in kết quả tương ứng."
   ]
  },
  {
   "cell_type": "code",
   "execution_count": null,
   "metadata": {},
   "outputs": [],
   "source": []
  },
  {
   "cell_type": "markdown",
   "metadata": {},
   "source": [
    "**Bài tập 13** Viết chương trình tạo list chứa 5 chuỗi, nhập một chuỗi và kiểm tra xem nó có trong list không, nếu có in vị trí, nếu không in \"Không tìm thấy\"."
   ]
  },
  {
   "cell_type": "code",
   "execution_count": null,
   "metadata": {},
   "outputs": [],
   "source": []
  },
  {
   "cell_type": "markdown",
   "metadata": {},
   "source": [
    "**Bài tập 14** Viết chương trình tạo một tuple chứa 3 số, chuyển thành list, thêm một số mới và kiểm tra xem list có dài hơn 3 không, in kết quả"
   ]
  },
  {
   "cell_type": "code",
   "execution_count": null,
   "metadata": {},
   "outputs": [],
   "source": []
  },
  {
   "cell_type": "markdown",
   "metadata": {},
   "source": [
    "**Bài tập 15** Viết chương trình nhập 4 phần tử (2 chuỗi, 2 số) vào list và kiểm tra xem list có đủ 4 phần tử không, nếu đủ in toàn bộ list, nếu không in \"list chưa đủ\"."
   ]
  },
  {
   "cell_type": "code",
   "execution_count": null,
   "metadata": {},
   "outputs": [],
   "source": []
  },
  {
   "cell_type": "markdown",
   "metadata": {
    "id": "HRGZpcFrvT6e"
   },
   "source": [
    "========================================\n",
    "\n",
    "CHỨC MỪNG ! BẠN ĐÃ VƯỢT QUA ĐƯỢC 15 BÀI TẬP ÔN LẠI KIẾN THỨC CƠ BẢN PYTHON !\n",
    "\n",
    "## Cách nộp bài\n",
    "\n",
    "1. Click vào liên kết **Share** phía góc trên bên phải\n",
    "1. Tại dòng **General access**, đổi từ **Restricted** thành **Anyone with the link**\n",
    "1. Click vào nút **Copy Link**, lấy link đó gửi cho giáo viên.\n"
   ]
  }
 ],
 "metadata": {
  "colab": {
   "authorship_tag": "ABX9TyPs5pwDK85DYLqDJfRDO89E",
   "provenance": []
  },
  "kernelspec": {
   "display_name": "Python 3",
   "name": "python3"
  },
  "language_info": {
   "name": "python"
  }
 },
 "nbformat": 4,
 "nbformat_minor": 0
}
