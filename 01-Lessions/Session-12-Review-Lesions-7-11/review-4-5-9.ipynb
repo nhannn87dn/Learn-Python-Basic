{
 "cells": [
  {
   "cell_type": "markdown",
   "id": "828b68d5",
   "metadata": {},
   "source": [
    "**Câu 1**: Tạo một dãy số chẵn từ 2-10 và in ra lần lượt các phần tử của dãy số đó."
   ]
  },
  {
   "cell_type": "code",
   "execution_count": null,
   "id": "6d87c996",
   "metadata": {},
   "outputs": [],
   "source": []
  },
  {
   "cell_type": "markdown",
   "id": "2bf861d1",
   "metadata": {},
   "source": [
    "**Câu 2** Cho một dãy số từ 1 đến 6. Hãy in lần lượt: `1,2,5,6`"
   ]
  },
  {
   "cell_type": "code",
   "execution_count": null,
   "id": "bedb2b56",
   "metadata": {},
   "outputs": [],
   "source": []
  },
  {
   "cell_type": "markdown",
   "id": "66c87ac1",
   "metadata": {},
   "source": [
    "**Câu 3** Cho một dãy số từ 1 đến 6. Hãy in lần lượt: `1,2`"
   ]
  },
  {
   "cell_type": "code",
   "execution_count": null,
   "id": "6662279c",
   "metadata": {},
   "outputs": [],
   "source": []
  },
  {
   "cell_type": "markdown",
   "id": "75309c48",
   "metadata": {},
   "source": [
    "**Câu 4** Viết một hàm để khi gọi hàm cần truyền đối số là tên của một người thì hàm đó in ra một lời chào ví dụ: `Xin chào Tuấn`"
   ]
  },
  {
   "cell_type": "code",
   "execution_count": null,
   "id": "7d25b21b",
   "metadata": {},
   "outputs": [],
   "source": []
  },
  {
   "cell_type": "markdown",
   "id": "6eba750b",
   "metadata": {},
   "source": [
    "**Câu 5** Viết một hàm tính xếp loại học lực cho học sinh của trường dựa vào đầu vào là điểm trung bình môn học.\n",
    "- Nếu lớn hơn 9 là Xuất sắc\n",
    "- Nếu lớn hơn 8 là Giỏi\n",
    "- Nếu lớn hơn 6 và nhỏ hơn 8 thì Khá\n",
    "- Nếu lớn hơn 4 là Trung Bình\n",
    "- Còn lại là yếu"
   ]
  }
 ],
 "metadata": {
  "language_info": {
   "name": "python"
  }
 },
 "nbformat": 4,
 "nbformat_minor": 5
}
