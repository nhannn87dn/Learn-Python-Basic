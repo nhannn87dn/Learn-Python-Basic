{
  "nbformat": 4,
  "nbformat_minor": 0,
  "metadata": {
    "colab": {
      "provenance": []
    },
    "kernelspec": {
      "name": "python3",
      "display_name": "Python 3"
    },
    "language_info": {
      "name": "python"
    }
  },
  "cells": [
    {
      "cell_type": "markdown",
      "source": [
        "# Bài tập về nhà Session 02"
      ],
      "metadata": {
        "id": "umLy2pYUxTQ7"
      }
    },
    {
      "cell_type": "markdown",
      "source": [
        "**Câu 1:** Khai báo hai biến x và y với giá trị là 5 và 10, sau đó in tổng của chúng."
      ],
      "metadata": {
        "id": "OeH6v_qkXlZy"
      }
    },
    {
      "cell_type": "code",
      "source": [
        "# Ví dụ cách trình bày code\n",
        "x = 5\n",
        "y = 10\n",
        "print(\"Tổng của 2 số x và y = \", x + y)"
      ],
      "metadata": {
        "id": "oRHH84ZrX20C"
      },
      "execution_count": null,
      "outputs": []
    },
    {
      "cell_type": "markdown",
      "source": [
        "**Câu 2:** Khai báo một biến tên là \"name\" và gán giá trị là tên của bạn, sau đó in ra \"Xin chào [name]!\""
      ],
      "metadata": {
        "id": "3m8GbhNbXwJ9"
      }
    },
    {
      "cell_type": "code",
      "source": [],
      "metadata": {
        "id": "QosPBQBKXtTo"
      },
      "execution_count": null,
      "outputs": []
    },
    {
      "cell_type": "markdown",
      "source": [
        "**Câu 3:** Khai báo các biến a, b, c với các giá trị là 10, 3 và 7. Tính và in ra kết quả của biểu thức (a + b) * c."
      ],
      "metadata": {
        "id": "y-fbR5QRypWg"
      }
    },
    {
      "cell_type": "code",
      "source": [],
      "metadata": {
        "id": "O_e_WxnVysSp"
      },
      "execution_count": null,
      "outputs": []
    },
    {
      "cell_type": "markdown",
      "source": [
        "**Câu 4:** Khai báo hai biến x và y với giá trị là 15 và 3, sau đó tính và in ra hiệu của chúng."
      ],
      "metadata": {
        "id": "11i_YuGB3HVa"
      }
    },
    {
      "cell_type": "code",
      "source": [],
      "metadata": {
        "id": "3uhc1vub3Ltq"
      },
      "execution_count": null,
      "outputs": []
    },
    {
      "cell_type": "markdown",
      "source": [
        "**Câu 5:** Khai báo biến a với giá trị là 12. Tính và in ra giá trị của a mũ 3 (a^3)"
      ],
      "metadata": {
        "id": "qTHB3EBm3P-a"
      }
    },
    {
      "cell_type": "code",
      "source": [],
      "metadata": {
        "id": "vFSvZxae3QIC"
      },
      "execution_count": null,
      "outputs": []
    },
    {
      "cell_type": "markdown",
      "source": [
        "**Câu 6:** Khai báo hai biến x và y với giá trị là 7 và 3. Tính và in ra phần nguyên của phép chia x cho y (x // y)"
      ],
      "metadata": {
        "id": "12dehASL3aKi"
      }
    },
    {
      "cell_type": "code",
      "source": [],
      "metadata": {
        "id": "N6V6n2SR3gZC"
      },
      "execution_count": null,
      "outputs": []
    },
    {
      "cell_type": "markdown",
      "source": [
        "**Câu 7:** Khai báo một biến \"money\" với giá trị là 5000000. Tính và in ra phần dư của số tiền \"money\" sau khi chia cho 100000 (money % 100000)"
      ],
      "metadata": {
        "id": "oha2n4n33na6"
      }
    },
    {
      "cell_type": "code",
      "source": [],
      "metadata": {
        "id": "mC8Bso843rfK"
      },
      "execution_count": null,
      "outputs": []
    },
    {
      "cell_type": "markdown",
      "source": [
        "**Câu 8:** Đặt một biến **myName** bằng tên của bạn, **myAge** bằng tuổi của bạn, **myAddress** bằng tên đường bạn đang ở. **Sau đó in ra:** Tôi tên là [myName], tôi [myAge] tuổi, nhà tôi ở đường [myAddress]."
      ],
      "metadata": {
        "id": "VKvPrPRd3sU6"
      }
    },
    {
      "cell_type": "code",
      "source": [],
      "metadata": {
        "id": "w6DcoD9e4La5"
      },
      "execution_count": null,
      "outputs": []
    },
    {
      "cell_type": "markdown",
      "source": [
        "**Câu 9:** Khai báo hai biến a và b với giá trị là 15 và 4. Tính và in ra kết quả của phép chia lấy phần dư a cho b (a % b)."
      ],
      "metadata": {
        "id": "XZXx0SNs4RU4"
      }
    },
    {
      "cell_type": "code",
      "source": [],
      "metadata": {
        "id": "leYeSA4e4WDJ"
      },
      "execution_count": null,
      "outputs": []
    },
    {
      "cell_type": "markdown",
      "source": [
        "**Câu 10:** Khai báo một biến \"hour\" với giá trị là 24 và một biến \"minute\" với giá trị là 45. Tính và in ra tổng số phút của \"hour\" và \"minute\"."
      ],
      "metadata": {
        "id": "Tbb7bY594WnY"
      }
    },
    {
      "cell_type": "code",
      "source": [],
      "metadata": {
        "id": "Ge9W3kX24eo4"
      },
      "execution_count": null,
      "outputs": []
    },
    {
      "cell_type": "markdown",
      "source": [
        "**Câu 11:** Khai báo hai biến \"length\" và \"width\" với giá trị lần lượt là 10 và 5. Tính và in ra diện tích của hình chữ nhật với chiều dài là \"length\" và chiều rộng là \"width\"."
      ],
      "metadata": {
        "id": "gndzZF--4iKJ"
      }
    },
    {
      "cell_type": "code",
      "source": [],
      "metadata": {
        "id": "DFIkKFtf4kGY"
      },
      "execution_count": null,
      "outputs": []
    },
    {
      "cell_type": "markdown",
      "source": [
        "**Câu 12:** Khai báo một biến \"temperature\" với giá trị là 30. Tính và in ra giá trị của nhiệt độ \"temperature\" đổi từ độ Celsius sang độ Fahrenheit (F = C * 9/5 + 32)."
      ],
      "metadata": {
        "id": "rVfvnCHQ4pqw"
      }
    },
    {
      "cell_type": "code",
      "source": [],
      "metadata": {
        "id": "12N3gyWx4rcI"
      },
      "execution_count": null,
      "outputs": []
    },
    {
      "cell_type": "markdown",
      "source": [
        "**Câu 13:** Khai báo biến \"x\" với giá trị là 5. Tính và in ra giá trị của x mũ 2 (x^2)."
      ],
      "metadata": {
        "id": "c3PszlJp4wCo"
      }
    },
    {
      "cell_type": "code",
      "source": [],
      "metadata": {
        "id": "h26ZZyNY4xlo"
      },
      "execution_count": null,
      "outputs": []
    },
    {
      "cell_type": "markdown",
      "source": [
        "**Câu 14:** Khai báo hai biến a và b với giá trị là 5 và 2. Tính và in ra kết quả của biểu thức a mũ b (a^b)"
      ],
      "metadata": {
        "id": "n91a-xvV4yD4"
      }
    },
    {
      "cell_type": "code",
      "source": [],
      "metadata": {
        "id": "esTPU6U2422Y"
      },
      "execution_count": null,
      "outputs": []
    },
    {
      "cell_type": "markdown",
      "source": [
        "**Câu 15:** Khai báo biến n với giá trị là 1000. Tính và in ra giá trị của căn bậc hai của n (n^(1/2))"
      ],
      "metadata": {
        "id": "ULwLupoW43c5"
      }
    },
    {
      "cell_type": "code",
      "source": [],
      "metadata": {
        "id": "V9ZGQjZ-46iw"
      },
      "execution_count": null,
      "outputs": []
    },
    {
      "cell_type": "markdown",
      "source": [
        "========================================\n",
        "\n",
        "CHỨC MỪNG ! BẠN ĐÃ ĐẾN ĐƯỢC ĐÍCH 15 BÀI TẬP VỀ BIẾN !\n",
        "\n",
        "## Cách nộp bài\n",
        "\n",
        "1. Click vào liên kết **Share** phía góc trên bên phải\n",
        "1. Tại dòng **General access**, đổi từ **Restricted** thành **Anyone with the link**\n",
        "1. Click vào nút **Copy Link**, lấy link đó gửi cho giáo viên.\n"
      ],
      "metadata": {
        "id": "gqr63j0Q48dg"
      }
    }
  ]
}