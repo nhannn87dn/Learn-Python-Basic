{
  "nbformat": 4,
  "nbformat_minor": 0,
  "metadata": {
    "colab": {
      "provenance": []
    },
    "kernelspec": {
      "name": "python3",
      "display_name": "Python 3"
    },
    "language_info": {
      "name": "python"
    }
  },
  "cells": [
    {
      "cell_type": "markdown",
      "source": [
        "# Bài tập về nhà Session 01\n",
        "\n",
        "Hướng dẫn thực hiện:\n",
        "\n",
        "- Đọc kỹ yêu cầu\n",
        "- Code lệnh vào mục code bên dưới câu hỏi. Sau đó nhấn vào biểu tượng **play** để thực thi mã python."
      ],
      "metadata": {
        "id": "i3NcySA4u4j3"
      }
    },
    {
      "cell_type": "markdown",
      "source": [
        "**Bài tập 1:** In ra chuỗi \"Hello, World!\""
      ],
      "metadata": {
        "id": "8vL1TR7Xs21M"
      }
    },
    {
      "cell_type": "code",
      "execution_count": 1,
      "metadata": {
        "id": "6vLYqbNEY_vQ"
      },
      "outputs": [],
      "source": [
        "# Ví dụ về cách làm\n",
        "print(\"Hello, World!\")"
      ]
    },
    {
      "cell_type": "markdown",
      "source": [
        "**Bài tập 2:** In ra chuỗi \"Xin chào, Python!\""
      ],
      "metadata": {
        "id": "Iau8LOEptELJ"
      }
    },
    {
      "cell_type": "code",
      "source": [],
      "metadata": {
        "id": "30CrG53vtI_9"
      },
      "execution_count": null,
      "outputs": []
    },
    {
      "cell_type": "markdown",
      "source": [
        "**Bài tập 3:** In ra chuỗi có chứa dấu ngoặc kép.\n",
        "\n",
        "Ví dụ: \"Tôi nói: 'Xin chào!'\""
      ],
      "metadata": {
        "id": "2AZemUS2tJ05"
      }
    },
    {
      "cell_type": "code",
      "source": [],
      "metadata": {
        "id": "4JZENQRdtODK"
      },
      "execution_count": null,
      "outputs": []
    },
    {
      "cell_type": "markdown",
      "source": [
        "**Bài tập 4:** In ra chuỗi có chứa dấu nháy đơn"
      ],
      "metadata": {
        "id": "JrvK4hGVtOdB"
      }
    },
    {
      "cell_type": "code",
      "source": [],
      "metadata": {
        "id": "EKE0hbZKtSvx"
      },
      "execution_count": null,
      "outputs": []
    },
    {
      "cell_type": "markdown",
      "source": [
        "**Bài tập 5:** In ra chuỗi nhiều dòng\n",
        "\n",
        "Ví dụ:\n",
        "\n",
        "- In ra chuỗi nhiều dòng:\n",
        "- Đây là dòng thứ nhất.\n",
        "- Đây là dòng thứ hai.\n",
        "- Đây là dòng thứ ba."
      ],
      "metadata": {
        "id": "_Dj1wN5ZtTPh"
      }
    },
    {
      "cell_type": "code",
      "source": [],
      "metadata": {
        "id": "TCtDWY9vtdlZ"
      },
      "execution_count": null,
      "outputs": []
    },
    {
      "cell_type": "markdown",
      "source": [
        "**Bài tập 6:** In ra chuỗi với các ký tự đặc biệt\n",
        "\n",
        "Ví dụ: \"Học Python cơ bản: \\n - Biến \\n - Vòng lặp \\n - Hàm\""
      ],
      "metadata": {
        "id": "sJTlabF8tqzR"
      }
    },
    {
      "cell_type": "code",
      "source": [],
      "metadata": {
        "id": "8LlXBRFwt0SM"
      },
      "execution_count": null,
      "outputs": []
    },
    {
      "cell_type": "markdown",
      "source": [
        "**Bài tập 7:** In ra một câu chuyện ngắn\n",
        "\n",
        "Ví dụ:\n",
        "\n",
        "In ra một câu chuyện ngắn:\n",
        "\n",
        "\"Ngày xửa ngày xưa, có một nàng công chúa sống trong một lâu đài.\""
      ],
      "metadata": {
        "id": "5vrQuBVpuJbg"
      }
    },
    {
      "cell_type": "code",
      "source": [],
      "metadata": {
        "id": "mZQ7HZPHuTe_"
      },
      "execution_count": null,
      "outputs": []
    },
    {
      "cell_type": "markdown",
      "source": [
        "**Bài tập 8:** In ra một bài thơ ngắn\n",
        "\n",
        "Ví dụ:\n",
        "\n",
        "\"Rừng xanh lá, mây trắng bay,\n",
        "\n",
        "Chim hót vang, suối chảy dài.\""
      ],
      "metadata": {
        "id": "QaBCbU7suT__"
      }
    },
    {
      "cell_type": "code",
      "source": [],
      "metadata": {
        "id": "mL5PHT9dugGX"
      },
      "execution_count": null,
      "outputs": []
    },
    {
      "cell_type": "markdown",
      "source": [
        "**Bài tập 9:** In ra một thông báo lỗi giả\n",
        "\n",
        "Ví dụ:\n",
        "\n",
        "In ra một thông báo lỗi giả:\n",
        "\n",
        "\"Lỗi 404: Không tìm thấy trang.\""
      ],
      "metadata": {
        "id": "fp-KoC16umG_"
      }
    },
    {
      "cell_type": "markdown",
      "source": [
        "**Bài tập 10:** In ra một danh sách mua sắm\n",
        "\n",
        "Ví dụ:\n",
        "\n",
        "In ra một danh sách mua sắm:\n",
        "\"Danh sách mua sắm:\n",
        "1. Gạo\n",
        "2. Rau\n",
        "3. Thịt\""
      ],
      "metadata": {
        "id": "xrmVMd9CuuAn"
      }
    },
    {
      "cell_type": "code",
      "source": [],
      "metadata": {
        "id": "FUl37iJ2u1Vr"
      },
      "execution_count": null,
      "outputs": []
    },
    {
      "cell_type": "markdown",
      "source": [
        "========================================\n",
        "\n",
        "CHỨC MỪNG ! BẠN ĐÃ VƯỢT QUA ĐƯỢC 10 BÀI TẬP ĐẦU TIÊN VỀ PYTHON !\n",
        "\n",
        "## Cách nộp bài\n",
        "\n",
        "1. Click vào liên kết **Share** phía góc trên bên phải\n",
        "1. Tại dòng **General access**, đổi từ **Restricted** thành **Anyone with the link**\n",
        "1. Click vào nút **Copy Link**, lấy link đó gửi cho giáo viên.\n"
      ],
      "metadata": {
        "id": "HRGZpcFrvT6e"
      }
    }
  ]
}